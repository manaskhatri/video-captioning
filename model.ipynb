{
 "cells": [
  {
   "cell_type": "code",
   "execution_count": null,
   "metadata": {},
   "outputs": [],
   "source": [
    "from tensorflow.keras import Model\n",
    "from tensorflow.keras.layers import Input, LSTM, Dense, Embedding, Bidirectional\n",
    "from attention import AttentionDecoder\n",
    "# returns train, inference_encoder and inference_decoder models\n",
    "def define_updated(n_input, n_output, n_units):\n",
    "    # define training encoder\n",
    "    encoder_inputs = Input(shape=(None, n_input))\n",
    "    encoder = Bidirectional(LSTM(n_units,return_sequences=True, return_state=True))\n",
    "    encoder1 = Bidirectional(LSTM(n_units, return_state=True))\n",
    "    encoder_outputs, state_h, state_c = encoder(encoder_inputs)\n",
    "    encoder_outputs, state_h, state_c = encoder1(encoder_outputs, state_h, state_c)\n",
    "    encoder_states = [state_h, state_c]\n",
    "    \n",
    "    # define training decoder\n",
    "    decoder_inputs = Input(shape=(None, n_output))\n",
    "    embedding = Embedding(10000, 64)\n",
    "    decoder_lstm1 = Bidirectional(LSTM(n_units, return_sequences=True, return_state=True))\n",
    "    decoder_lstm2 = Bidirectional(LSTM(n_units, return_sequences=True, return_state=True))\n",
    "    attention_decoder = AttentionDecoder(n_units) # !!!!!!!!!  n_features required here. !!!!!!!!!!!!!!\n",
    "    \n",
    "    temp = embedding(decoder_inputs)\n",
    "    temp, _, _ = decoder_lstm1(temp, initial_state=encoder_states)\n",
    "    decoder_outputs, _, _ = decoder_lstm2(temp, initial_state=encoder_states)\n",
    "    decoder_outputs = attention_decoder(decoder_outputs)\n",
    "    decoder_dense = Dense(n_output, activation='softmax')\n",
    "    \n",
    "    decoder_outputs = decoder_dense(decoder_outputs)\n",
    "    model = Model([encoder_inputs, decoder_inputs], decoder_outputs)\n",
    "    \n",
    "    # define inference encoder\n",
    "    encoder_model = Model(encoder_inputs, encoder_states)\n",
    "    \n",
    "    # define inference decoder\n",
    "    decoder_state_input_h = Input(shape=(n_units,))\n",
    "    decoder_state_input_c = Input(shape=(n_units,))\n",
    "    decoder_states_inputs = [decoder_state_input_h, decoder_state_input_c]\n",
    "    \n",
    "    temp = embedding(decoder_inputs)\n",
    "    temp, _, _ = decoder_lstm1(temp, initial_state=decoder_states_inputs)\n",
    "    decoder_outputs, state_h, state_c = decoder_lstm2(temp, initial_state=decoder_states_inputs)\n",
    "    decoder_states = [state_h, state_c]\n",
    "    decoder_outputs = decoder_dense(decoder_outputs)\n",
    "    decoder_model = Model([decoder_inputs] + decoder_states_inputs, [decoder_outputs] + decoder_states)\n",
    "    \n",
    "    # return all models\n",
    "    return model, encoder_model, decoder_model"
   ]
  }
 ],
 "metadata": {
  "kernelspec": {
   "display_name": "Python 3",
   "language": "python",
   "name": "python3"
  },
  "language_info": {
   "codemirror_mode": {
    "name": "ipython",
    "version": 3
   },
   "file_extension": ".py",
   "mimetype": "text/x-python",
   "name": "python",
   "nbconvert_exporter": "python",
   "pygments_lexer": "ipython3",
   "version": "3.8.2"
  }
 },
 "nbformat": 4,
 "nbformat_minor": 4
}
